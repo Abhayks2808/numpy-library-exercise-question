{
  "nbformat": 4,
  "nbformat_minor": 0,
  "metadata": {
    "kernelspec": {
      "display_name": "Python 3",
      "language": "python",
      "name": "python3"
    },
    "language_info": {
      "codemirror_mode": {
        "name": "ipython",
        "version": 3
      },
      "file_extension": ".py",
      "mimetype": "text/x-python",
      "name": "python",
      "nbconvert_exporter": "python",
      "pygments_lexer": "ipython3",
      "version": "3.7.6"
    },
    "colab": {
      "name": "numpy-exercises.ipynb",
      "provenance": []
    }
  },
  "cells": [
    {
      "cell_type": "markdown",
      "metadata": {
        "id": "XRdUZjQjRy7d",
        "colab_type": "text"
      },
      "source": [
        "# NumPy Practice\n",
        "\n",
        "This notebook offers a set of excercises for different tasks with NumPy.\n",
        "\n",
        "It should be noted there may be more than one different way to answer a question or complete an exercise.\n",
        "\n",
        "Exercises are based off (and directly taken from) the quick introduction to NumPy notebook.\n",
        "\n",
        "Different tasks will be detailed by comments or text.\n",
        "\n",
        "For further reference and resources, it's advised to check out the [NumPy documentation](https://numpy.org/devdocs/user/index.html).\n",
        "\n",
        "And if you get stuck, try searching for a question in the following format: \"how to do XYZ with numpy\", where XYZ is the function you want to leverage from NumPy."
      ]
    },
    {
      "cell_type": "code",
      "metadata": {
        "id": "GVwtLBI4Ry7g",
        "colab_type": "code",
        "colab": {}
      },
      "source": [
        "# Import NumPy as its abbreviation 'np'\n"
      ],
      "execution_count": null,
      "outputs": []
    },
    {
      "cell_type": "code",
      "metadata": {
        "id": "AckQl4iURy7s",
        "colab_type": "code",
        "colab": {}
      },
      "source": [
        "# Create a 1-dimensional NumPy array using np.array()\n",
        "\n",
        "\n",
        "# Create a 2-dimensional NumPy array using np.array()\n",
        "\n",
        "\n",
        "# Create a 3-dimensional Numpy array using np.array()\n"
      ],
      "execution_count": null,
      "outputs": []
    },
    {
      "cell_type": "markdown",
      "metadata": {
        "id": "54ojZMr9Ry71",
        "colab_type": "text"
      },
      "source": [
        "Now we've you've created 3 different arrays, let's find details about them.\n",
        "\n",
        "Find the shape, number of dimensions, data type, size and type of each array."
      ]
    },
    {
      "cell_type": "code",
      "metadata": {
        "id": "rDWVjreQRy73",
        "colab_type": "code",
        "colab": {}
      },
      "source": [
        "# Attributes of 1-dimensional array (shape, \n",
        "# number of dimensions, data type, size and type)\n"
      ],
      "execution_count": null,
      "outputs": []
    },
    {
      "cell_type": "code",
      "metadata": {
        "id": "nkdWluxXRy7_",
        "colab_type": "code",
        "colab": {}
      },
      "source": [
        "# Attributes of 2-dimensional array\n"
      ],
      "execution_count": null,
      "outputs": []
    },
    {
      "cell_type": "code",
      "metadata": {
        "id": "WYlgPufBRy8H",
        "colab_type": "code",
        "colab": {}
      },
      "source": [
        "# Attributes of 3-dimensional array\n"
      ],
      "execution_count": null,
      "outputs": []
    },
    {
      "cell_type": "code",
      "metadata": {
        "id": "4RZgd6x2Ry8N",
        "colab_type": "code",
        "colab": {}
      },
      "source": [
        "# Import pandas and create a DataFrame out of one\n",
        "# of the arrays you've created\n"
      ],
      "execution_count": null,
      "outputs": []
    },
    {
      "cell_type": "code",
      "metadata": {
        "id": "vd8MVXX_Ry8U",
        "colab_type": "code",
        "colab": {}
      },
      "source": [
        "# Create an array of shape (10, 2) with only ones\n"
      ],
      "execution_count": null,
      "outputs": []
    },
    {
      "cell_type": "code",
      "metadata": {
        "id": "CKiF2AH-Ry8d",
        "colab_type": "code",
        "colab": {}
      },
      "source": [
        "# Create an array of shape (7, 2, 3) of only zeros\n"
      ],
      "execution_count": null,
      "outputs": []
    },
    {
      "cell_type": "code",
      "metadata": {
        "id": "MmELcrWORy8i",
        "colab_type": "code",
        "colab": {}
      },
      "source": [
        "# Create an array within a range of 0 and 100 with step 3\n"
      ],
      "execution_count": null,
      "outputs": []
    },
    {
      "cell_type": "code",
      "metadata": {
        "id": "4gf0L5aHRy8m",
        "colab_type": "code",
        "colab": {}
      },
      "source": [
        "# Create a random array with numbers between 0 and 10 of size (7, 2)\n"
      ],
      "execution_count": null,
      "outputs": []
    },
    {
      "cell_type": "code",
      "metadata": {
        "id": "ZbKSEVTSRy8p",
        "colab_type": "code",
        "colab": {}
      },
      "source": [
        "# Create a random array of floats between 0 & 1 of shape (3, 5)\n"
      ],
      "execution_count": null,
      "outputs": []
    },
    {
      "cell_type": "code",
      "metadata": {
        "id": "WrcX7NzDRy8s",
        "colab_type": "code",
        "colab": {}
      },
      "source": [
        "# Set the random seed to 42\n",
        "\n",
        "\n",
        "# Create a random array of numbers between 0 & 10 of size (4, 6)\n"
      ],
      "execution_count": null,
      "outputs": []
    },
    {
      "cell_type": "markdown",
      "metadata": {
        "id": "Eqrxj8JYRy8v",
        "colab_type": "text"
      },
      "source": [
        "Run the cell above again, what happens?\n",
        "\n",
        "Are the numbers in the array different or the same? Why do think this is?"
      ]
    },
    {
      "cell_type": "code",
      "metadata": {
        "id": "CUTVsciFRy8w",
        "colab_type": "code",
        "colab": {}
      },
      "source": [
        "# Create an array of random numbers between 1 & 10 of size (3, 7)\n",
        "# and save it to a variable\n",
        "\n",
        "\n",
        "# Find the unique numbers in the array you just created\n"
      ],
      "execution_count": null,
      "outputs": []
    },
    {
      "cell_type": "code",
      "metadata": {
        "id": "OXSrEE2pRy8z",
        "colab_type": "code",
        "colab": {}
      },
      "source": [
        "# Find the 0'th index of the latest array you created\n"
      ],
      "execution_count": null,
      "outputs": []
    },
    {
      "cell_type": "code",
      "metadata": {
        "id": "gxrn5Iq7Ry81",
        "colab_type": "code",
        "colab": {}
      },
      "source": [
        "# Get the first 2 rows of latest array you created\n"
      ],
      "execution_count": null,
      "outputs": []
    },
    {
      "cell_type": "code",
      "metadata": {
        "id": "E-U0KHDdRy84",
        "colab_type": "code",
        "colab": {}
      },
      "source": [
        "# Get the first 2 rows of latest array you created\n"
      ],
      "execution_count": null,
      "outputs": []
    },
    {
      "cell_type": "code",
      "metadata": {
        "id": "A3LbHmfsRy86",
        "colab_type": "code",
        "colab": {}
      },
      "source": [
        "# Get the first 2 values of the first 2 rows of the latest array\n"
      ],
      "execution_count": null,
      "outputs": []
    },
    {
      "cell_type": "code",
      "metadata": {
        "id": "NANcnq3YRy8-",
        "colab_type": "code",
        "colab": {}
      },
      "source": [
        "# Create a random array of numbers between 0 & 10 and an array of ones\n",
        "# both of size (3, 5), save them both to variables\n"
      ],
      "execution_count": null,
      "outputs": []
    },
    {
      "cell_type": "code",
      "metadata": {
        "id": "ptxUy4dZRy9B",
        "colab_type": "code",
        "colab": {}
      },
      "source": [
        "# Add the two arrays together\n"
      ],
      "execution_count": null,
      "outputs": []
    },
    {
      "cell_type": "code",
      "metadata": {
        "id": "2h2fYT71Ry9E",
        "colab_type": "code",
        "colab": {}
      },
      "source": [
        "# Create another array of ones of shape (5, 3)\n"
      ],
      "execution_count": null,
      "outputs": []
    },
    {
      "cell_type": "code",
      "metadata": {
        "id": "CvzZHOqeRy9G",
        "colab_type": "code",
        "colab": {}
      },
      "source": [
        "# Try add the array of ones and the other most recent array together\n"
      ],
      "execution_count": null,
      "outputs": []
    },
    {
      "cell_type": "markdown",
      "metadata": {
        "id": "2jDIOK-KRy9J",
        "colab_type": "text"
      },
      "source": [
        "When you try the last cell, it produces an error. Why do think this is?\n",
        "\n",
        "How would you fix it?"
      ]
    },
    {
      "cell_type": "code",
      "metadata": {
        "id": "MGKNjYGoRy9J",
        "colab_type": "code",
        "colab": {}
      },
      "source": [
        "# Create another array of ones of shape (3, 5)\n"
      ],
      "execution_count": null,
      "outputs": []
    },
    {
      "cell_type": "code",
      "metadata": {
        "id": "jlNR0T4GRy9L",
        "colab_type": "code",
        "colab": {}
      },
      "source": [
        "# Subtract the new array of ones from the other most recent array\n"
      ],
      "execution_count": null,
      "outputs": []
    },
    {
      "cell_type": "code",
      "metadata": {
        "id": "BfaHmXM9Ry9P",
        "colab_type": "code",
        "colab": {}
      },
      "source": [
        "# Multiply the ones array with the latest array\n"
      ],
      "execution_count": null,
      "outputs": []
    },
    {
      "cell_type": "code",
      "metadata": {
        "id": "bqJHqT1gRy9S",
        "colab_type": "code",
        "colab": {}
      },
      "source": [
        "# Take the latest array to the power of 2 using '**'\n"
      ],
      "execution_count": null,
      "outputs": []
    },
    {
      "cell_type": "code",
      "metadata": {
        "id": "RHNZdX1-Ry9W",
        "colab_type": "code",
        "colab": {}
      },
      "source": [
        "# Do the same thing with np.square()\n"
      ],
      "execution_count": null,
      "outputs": []
    },
    {
      "cell_type": "code",
      "metadata": {
        "id": "FSyBVo-7Ry9Z",
        "colab_type": "code",
        "colab": {}
      },
      "source": [
        "# Find the mean of the latest array using np.mean()\n"
      ],
      "execution_count": null,
      "outputs": []
    },
    {
      "cell_type": "code",
      "metadata": {
        "id": "b-793Dl7Ry9b",
        "colab_type": "code",
        "colab": {}
      },
      "source": [
        "# Find the maximum of the latest array using np.max()\n"
      ],
      "execution_count": null,
      "outputs": []
    },
    {
      "cell_type": "code",
      "metadata": {
        "id": "EzM3V89CRy9e",
        "colab_type": "code",
        "colab": {}
      },
      "source": [
        "# Find the minimum of the latest array using np.min()\n"
      ],
      "execution_count": null,
      "outputs": []
    },
    {
      "cell_type": "code",
      "metadata": {
        "id": "D836mYMxRy9g",
        "colab_type": "code",
        "colab": {}
      },
      "source": [
        "# Find the standard deviation of the latest array\n"
      ],
      "execution_count": null,
      "outputs": []
    },
    {
      "cell_type": "code",
      "metadata": {
        "id": "VMwspVuRRy9k",
        "colab_type": "code",
        "colab": {}
      },
      "source": [
        "# Find the variance of the latest array\n"
      ],
      "execution_count": null,
      "outputs": []
    },
    {
      "cell_type": "code",
      "metadata": {
        "id": "82WQBwjZRy9n",
        "colab_type": "code",
        "colab": {}
      },
      "source": [
        "# Reshape the latest array to (3, 5, 1)\n"
      ],
      "execution_count": null,
      "outputs": []
    },
    {
      "cell_type": "code",
      "metadata": {
        "id": "94lCLpjeRy9q",
        "colab_type": "code",
        "colab": {}
      },
      "source": [
        "# Transpose the latest array\n"
      ],
      "execution_count": null,
      "outputs": []
    },
    {
      "cell_type": "markdown",
      "metadata": {
        "id": "8Ow0Wv1KRy9s",
        "colab_type": "text"
      },
      "source": [
        "What does the transpose do?"
      ]
    },
    {
      "cell_type": "code",
      "metadata": {
        "id": "35c0I52XRy9t",
        "colab_type": "code",
        "colab": {}
      },
      "source": [
        "# Create two arrays of random integers between 0 to 10\n",
        "# one of size (3, 3) the other of size (3, 2)\n"
      ],
      "execution_count": null,
      "outputs": []
    },
    {
      "cell_type": "code",
      "metadata": {
        "id": "7xgrysX2Ry9v",
        "colab_type": "code",
        "colab": {}
      },
      "source": [
        "# Perform a dot product on the two newest arrays you created\n"
      ],
      "execution_count": null,
      "outputs": []
    },
    {
      "cell_type": "code",
      "metadata": {
        "id": "rVnShEvLRy9y",
        "colab_type": "code",
        "colab": {}
      },
      "source": [
        "# Create two arrays of random integers between 0 to 10\n",
        "# both of size (4, 3)\n"
      ],
      "execution_count": null,
      "outputs": []
    },
    {
      "cell_type": "code",
      "metadata": {
        "id": "H1fMdi8vRy90",
        "colab_type": "code",
        "colab": {}
      },
      "source": [
        "# Perform a dot product on the two newest arrays you created\n"
      ],
      "execution_count": null,
      "outputs": []
    },
    {
      "cell_type": "markdown",
      "metadata": {
        "id": "D3vNm4vzRy93",
        "colab_type": "text"
      },
      "source": [
        "It doesn't work. How would you fix it?"
      ]
    },
    {
      "cell_type": "code",
      "metadata": {
        "id": "ZZsTDipfRy93",
        "colab_type": "code",
        "colab": {}
      },
      "source": [
        "# Take the latest two arrays, perform a transpose on one of them and then perform \n",
        "# a dot product on them both\n"
      ],
      "execution_count": null,
      "outputs": []
    },
    {
      "cell_type": "markdown",
      "metadata": {
        "id": "4cOLCQIRRy96",
        "colab_type": "text"
      },
      "source": [
        "Notice how performing a transpose allows the dot product to happen.\n",
        "\n",
        "Why is this?\n",
        "\n",
        "Checking out the documentation on [`np.dot()`](https://docs.scipy.org/doc/numpy/reference/generated/numpy.dot.html) may help, as well as reading [Math is Fun's guide on the dot product](https://www.mathsisfun.com/algebra/vectors-dot-product.html).\n",
        "\n",
        "Let's now compare arrays."
      ]
    },
    {
      "cell_type": "code",
      "metadata": {
        "id": "Xnhm5ubURy97",
        "colab_type": "code",
        "colab": {}
      },
      "source": [
        "# Create two arrays of random integers between 0 & 10 of the same shape\n",
        "# and save them to variables\n"
      ],
      "execution_count": null,
      "outputs": []
    },
    {
      "cell_type": "code",
      "metadata": {
        "id": "gIk_uFaxRy9-",
        "colab_type": "code",
        "colab": {}
      },
      "source": [
        "# Compare the two arrays with '>'\n"
      ],
      "execution_count": null,
      "outputs": []
    },
    {
      "cell_type": "markdown",
      "metadata": {
        "id": "SVTtFyTkRy-E",
        "colab_type": "text"
      },
      "source": [
        "What happens when you compare the arrays with `>`?"
      ]
    },
    {
      "cell_type": "code",
      "metadata": {
        "id": "vX1xaTwTRy-F",
        "colab_type": "code",
        "colab": {}
      },
      "source": [
        "# Compare the two arrays with '>='\n"
      ],
      "execution_count": null,
      "outputs": []
    },
    {
      "cell_type": "code",
      "metadata": {
        "id": "NfUStHMIRy-J",
        "colab_type": "code",
        "colab": {}
      },
      "source": [
        "# Find which elements of the first array are greater than 7\n"
      ],
      "execution_count": null,
      "outputs": []
    },
    {
      "cell_type": "code",
      "metadata": {
        "id": "SIfT1LPoRy-O",
        "colab_type": "code",
        "colab": {}
      },
      "source": [
        "# Which parts of each array are equal? (try using '==')\n"
      ],
      "execution_count": null,
      "outputs": []
    },
    {
      "cell_type": "code",
      "metadata": {
        "id": "sJccLyheRy-Q",
        "colab_type": "code",
        "colab": {}
      },
      "source": [
        "# Sort one of the arrays you just created in ascending order\n"
      ],
      "execution_count": null,
      "outputs": []
    },
    {
      "cell_type": "code",
      "metadata": {
        "id": "49QNGQLFRy-Y",
        "colab_type": "code",
        "colab": {}
      },
      "source": [
        "# Sort the indexes of one of the arrays you just created\n"
      ],
      "execution_count": null,
      "outputs": []
    },
    {
      "cell_type": "code",
      "metadata": {
        "id": "_mM5NSxpRy-b",
        "colab_type": "code",
        "colab": {}
      },
      "source": [
        "# Find the index with the maximum value in one of the arrays you've created\n"
      ],
      "execution_count": null,
      "outputs": []
    },
    {
      "cell_type": "code",
      "metadata": {
        "id": "OCyda-hpRy-f",
        "colab_type": "code",
        "colab": {}
      },
      "source": [
        "# Find the index with the minimum value in one of the arrays you've created\n"
      ],
      "execution_count": null,
      "outputs": []
    },
    {
      "cell_type": "code",
      "metadata": {
        "id": "y7C6oYL3Ry-h",
        "colab_type": "code",
        "colab": {}
      },
      "source": [
        "# Find the indexes with the maximum values down the 1st axis (axis=1)\n",
        "# of one of the arrays you created\n"
      ],
      "execution_count": null,
      "outputs": []
    },
    {
      "cell_type": "code",
      "metadata": {
        "id": "WKQxudnVRy-j",
        "colab_type": "code",
        "colab": {}
      },
      "source": [
        "# Find the indexes with the minimum values across the 0th axis (axis=0)\n",
        "# of one of the arrays you created\n"
      ],
      "execution_count": null,
      "outputs": []
    },
    {
      "cell_type": "code",
      "metadata": {
        "id": "6uE_dcAlRy-n",
        "colab_type": "code",
        "colab": {}
      },
      "source": [
        "# Create an array of normally distributed random numbers\n"
      ],
      "execution_count": null,
      "outputs": []
    },
    {
      "cell_type": "code",
      "metadata": {
        "id": "WZwlzLc2Ry-q",
        "colab_type": "code",
        "colab": {}
      },
      "source": [
        "# Create an array with 10 evenly spaced numbers between 1 and 100\n"
      ],
      "execution_count": null,
      "outputs": []
    },
    {
      "cell_type": "markdown",
      "metadata": {
        "id": "d5eU1L_0Ry-w",
        "colab_type": "text"
      },
      "source": [
        "## Extensions\n",
        "\n",
        "For more exercises, check out the [NumPy quickstart tutorial](https://docs.scipy.org/doc/numpy-1.15.0/user/quickstart.html). A good practice would be to read through it and for the parts you find interesting, add them into the end of this notebook.\n",
        "\n",
        "Pay particular attention to the section on broadcasting. And most importantly, get hands-on with the code as much as possible. If in dobut, run the code, see what it does.\n",
        "\n",
        "The next place you could go is the [Stack Overflow page for the top questions and answers for NumPy](https://stackoverflow.com/questions/tagged/numpy?sort=MostVotes&edited=true). Often, you'll find some of the most common and useful NumPy functions here. Don't forget to play around with the filters! You'll likely find something helpful here.\n",
        "\n",
        "Finally, as always, remember, the best way to learn something new is to try it. And try it relentlessly. If you get interested in some kind of NumPy function, asking yourself, \"I wonder if NumPy could do that?\", go and find out."
      ]
    }
  ]
}